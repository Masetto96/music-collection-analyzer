{
 "cells": [
  {
   "cell_type": "code",
   "execution_count": null,
   "metadata": {},
   "outputs": [],
   "source": [
    "import pandas as pd\n",
    "import matplotlib.pyplot as plt\n",
    "import seaborn as sns\n",
    "import utils as u"
   ]
  },
  {
   "cell_type": "markdown",
   "metadata": {},
   "source": [
    "- Which music styles are present in the collection? Plot distribution. \n",
    "- - As the model predictions are activations, you need to decide what you consider as the final music style prediction for a track. If you want to consider the possibility of multiple styles per track, define some threshold for activation values. Otherwise, if you want to have a single music style per track, use the one with the maximum activation.\n",
    "- - We have 400 values which may be a challenge to fit in a compact plot. Predicted styles have a parent broad genre category (all style tags have a format `genre—style`). Therefore you can instead report distribution for parent broad genres. In any case, also provide full results as a separate TSV file (similar to how we report genre distribution in MTG-Jamendo).\n"
   ]
  },
  {
   "cell_type": "code",
   "execution_count": null,
   "metadata": {},
   "outputs": [],
   "source": [
    "# TODO: compute and plot genre distribution\n",
    "pickle_file_path = 'descriptors/discogs-400-genre.pkl'\n",
    "\n",
    "discogs_df = u.read_pickle_descriptors(pickle_file_path)\n",
    "discogs_df.head(5)\n"
   ]
  },
  {
   "cell_type": "code",
   "execution_count": null,
   "metadata": {},
   "outputs": [],
   "source": [
    "# foo = u.read_numpy_arrays_from_pickle(\"embeddings/test_musiccnn.pkl\")\n",
    "foo = u.read_numpy_arrays_from_pickle(\"embeddings/test-musiccnn.pkl\")\n",
    "foo\n"
   ]
  },
  {
   "cell_type": "code",
   "execution_count": null,
   "metadata": {},
   "outputs": [],
   "source": [
    "foo = u.read_numpy_arrays_from_pickle(\"embeddings/test-discogs.pkl\")\n",
    "foo.shape"
   ]
  },
  {
   "cell_type": "code",
   "execution_count": 16,
   "metadata": {},
   "outputs": [
    {
     "data": {
      "text/html": [
       "<div>\n",
       "<style scoped>\n",
       "    .dataframe tbody tr th:only-of-type {\n",
       "        vertical-align: middle;\n",
       "    }\n",
       "\n",
       "    .dataframe tbody tr th {\n",
       "        vertical-align: top;\n",
       "    }\n",
       "\n",
       "    .dataframe thead th {\n",
       "        text-align: right;\n",
       "    }\n",
       "</style>\n",
       "<table border=\"1\" class=\"dataframe\">\n",
       "  <thead>\n",
       "    <tr style=\"text-align: right;\">\n",
       "      <th></th>\n",
       "      <th>file_path</th>\n",
       "      <th>loudness</th>\n",
       "      <th>tempo</th>\n",
       "      <th>voice_instrumental</th>\n",
       "      <th>danceability</th>\n",
       "      <th>arousal_valence</th>\n",
       "      <th>keyscale_edma</th>\n",
       "      <th>keyscale_krumhansl</th>\n",
       "      <th>keyscale_temperly</th>\n",
       "    </tr>\n",
       "  </thead>\n",
       "  <tbody>\n",
       "    <tr>\n",
       "      <th>0</th>\n",
       "      <td>audio/audio/audio.000/3t/3tJjZMHLqhD8DaGgdBICn...</td>\n",
       "      <td>-11.269575</td>\n",
       "      <td>100</td>\n",
       "      <td>[0.028791725635528564, 0.9712082147598267]</td>\n",
       "      <td>[0.06318946182727814, 0.9368106126785278]</td>\n",
       "      <td>(4.286968231201172, 4.7023024559021)</td>\n",
       "      <td>(A, major, 0.5575715899467468)</td>\n",
       "      <td>(C#, minor, 0.6585734486579895)</td>\n",
       "      <td>(C#, minor, 0.557121217250824)</td>\n",
       "    </tr>\n",
       "    <tr>\n",
       "      <th>1</th>\n",
       "      <td>audio/audio/audio.000/1y/1yBlGMHFJyX17LwHkK3PZ...</td>\n",
       "      <td>-6.745553</td>\n",
       "      <td>94</td>\n",
       "      <td>[0.005804994609206915, 0.9941949248313904]</td>\n",
       "      <td>[0.805847704410553, 0.19415226578712463]</td>\n",
       "      <td>(4.780598163604736, 5.73163366317749)</td>\n",
       "      <td>(C#, major, 0.6163654327392578)</td>\n",
       "      <td>(C#, major, 0.6481348872184753)</td>\n",
       "      <td>(C#, major, 0.7483041882514954)</td>\n",
       "    </tr>\n",
       "  </tbody>\n",
       "</table>\n",
       "</div>"
      ],
      "text/plain": [
       "                                           file_path   loudness  tempo  \\\n",
       "0  audio/audio/audio.000/3t/3tJjZMHLqhD8DaGgdBICn... -11.269575    100   \n",
       "1  audio/audio/audio.000/1y/1yBlGMHFJyX17LwHkK3PZ...  -6.745553     94   \n",
       "\n",
       "                           voice_instrumental  \\\n",
       "0  [0.028791725635528564, 0.9712082147598267]   \n",
       "1  [0.005804994609206915, 0.9941949248313904]   \n",
       "\n",
       "                                danceability  \\\n",
       "0  [0.06318946182727814, 0.9368106126785278]   \n",
       "1   [0.805847704410553, 0.19415226578712463]   \n",
       "\n",
       "                         arousal_valence                    keyscale_edma  \\\n",
       "0   (4.286968231201172, 4.7023024559021)   (A, major, 0.5575715899467468)   \n",
       "1  (4.780598163604736, 5.73163366317749)  (C#, major, 0.6163654327392578)   \n",
       "\n",
       "                keyscale_krumhansl                keyscale_temperly  \n",
       "0  (C#, minor, 0.6585734486579895)   (C#, minor, 0.557121217250824)  \n",
       "1  (C#, major, 0.6481348872184753)  (C#, major, 0.7483041882514954)  "
      ]
     },
     "execution_count": 16,
     "metadata": {},
     "output_type": "execute_result"
    }
   ],
   "source": [
    "pickle_file_path = 'descriptors/descriptors-but-genre-test.pkl'\n",
    "\n",
    "\n",
    "descriptors_df = u.read_pickle_descriptors(pickle_file_path)\n",
    "descriptors_df.head(5)"
   ]
  },
  {
   "cell_type": "markdown",
   "metadata": {},
   "source": [
    "- How fast and danceable is the music? Plot tempo and danceability distribution.\n"
   ]
  },
  {
   "cell_type": "code",
   "execution_count": null,
   "metadata": {},
   "outputs": [],
   "source": [
    "\n",
    "plt.hist(descriptors_df['tempo'], color='skyblue', edgecolor='black')\n",
    "plt.title('Distribution of BPM Data')\n",
    "plt.xlabel('Beats per minute')\n",
    "plt.ylabel('Frequency')\n",
    "plt.grid(True)\n",
    "plt.tight_layout()\n",
    "plt.show()\n",
    "\n",
    "# TODO: whats wrong with danceability distribution?\n",
    "plt.hist(descriptors_df['danceability'].apply(lambda x: x[0]), color='red', edgecolor='black')\n",
    "plt.title('Danceability')\n",
    "plt.xlabel('Is danceable')\n",
    "plt.ylabel('Frequency')\n",
    "plt.grid(True)\n",
    "plt.tight_layout()\n",
    "plt.show()"
   ]
  },
  {
   "cell_type": "markdown",
   "metadata": {},
   "source": [
    "- How is music represented in terms of arousal/valence emotion space? Plot a 2D distribution.\n"
   ]
  },
  {
   "cell_type": "code",
   "execution_count": null,
   "metadata": {},
   "outputs": [],
   "source": [
    "arousal = descriptors_df['arousal_valence'].apply(lambda x: x[0])\n",
    "valence = descriptors_df['arousal_valence'].apply(lambda x: x[1])\n",
    "joint_plot = sns.jointplot(x=arousal, y=valence, kind='hex', color='skyblue')\n",
    "joint_plot.set_axis_labels('Arousal', 'Valence', fontsize=11)\n",
    "plt.show()"
   ]
  },
  {
   "cell_type": "markdown",
   "metadata": {},
   "source": [
    "- What about loudness? Plot integrated loudness LUFS distribution.\n"
   ]
  },
  {
   "cell_type": "code",
   "execution_count": null,
   "metadata": {},
   "outputs": [],
   "source": [
    "plt.hist(descriptors_df['loudness'], color='green', edgecolor='black')\n",
    "plt.title('Integrated LUFS Loudness Distribution')\n",
    "plt.xlabel('Loudness')\n",
    "plt.ylabel('Frequency')\n",
    "plt.grid(True)\n",
    "plt.tight_layout()\n",
    "plt.show()"
   ]
  },
  {
   "cell_type": "markdown",
   "metadata": {},
   "source": [
    "- Which keys/scales are used in the collection? Plot distribution according to the three profiles we used.\n",
    "- How much of the music is vocal vs instrumental? \n"
   ]
  },
  {
   "cell_type": "code",
   "execution_count": null,
   "metadata": {},
   "outputs": [],
   "source": [
    "# TODO: key scale and vocal vs instrumental"
   ]
  },
  {
   "cell_type": "code",
   "execution_count": null,
   "metadata": {},
   "outputs": [],
   "source": []
  }
 ],
 "metadata": {
  "kernelspec": {
   "display_name": ".amplab",
   "language": "python",
   "name": "python3"
  },
  "language_info": {
   "codemirror_mode": {
    "name": "ipython",
    "version": 3
   },
   "file_extension": ".py",
   "mimetype": "text/x-python",
   "name": "python",
   "nbconvert_exporter": "python",
   "pygments_lexer": "ipython3",
   "version": "3.11.2"
  }
 },
 "nbformat": 4,
 "nbformat_minor": 2
}
